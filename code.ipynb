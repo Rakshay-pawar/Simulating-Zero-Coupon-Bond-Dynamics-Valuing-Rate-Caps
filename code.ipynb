{
 "cells": [
  {
   "cell_type": "code",
   "execution_count": 6,
   "metadata": {},
   "outputs": [],
   "source": [
    "import pandas as pd\n",
    "import numpy as np\n",
    "import seaborn as sns\n",
    "import matplotlib.pyplot as plt\n",
    "import matplotlib.ticker as mtick\n",
    "import statsmodels.api as sm\n",
    "import scipy as sp\n",
    "import itertools\n",
    "import warnings\n",
    "warnings.filterwarnings('ignore')\n",
    "plt.style.use('seaborn-darkgrid')\n",
    "MyColors = [\"#0078D7\", \"#E74856\", \"#FFB900\", \"#10893E\", \"#B146C2\",\n",
    "\"#00B7C3\", \"#E3008C\", \"#FF8C00\", \"#00CC6A\", \"#6B69D6\",\n",
    "\"#0099BC\", \"#C30052\", \"#F7630C\", \"#00B294\", \"#8764B8\"]\n",
    "sns.set_palette(MyColors)"
   ]
  },
  {
   "cell_type": "code",
   "execution_count": 9,
   "metadata": {},
   "outputs": [],
   "source": [
    "# Read discount factor data\n",
    "df_init = pd.read_csv(r\"C:\\Users\\yahsk\\Desktop\\Q2\\Fixed income markets\\ALL HW AND SOLUTIONS except 8\\Homework_export 7\\Homework 7\\pfilea.csv\", header=None)[0]\n",
    "df_init.index = np.arange(0.5, 15+0.5, 0.5)\n",
    "df_init = df_init[:10]"
   ]
  },
  {
   "cell_type": "code",
   "execution_count": 12,
   "metadata": {},
   "outputs": [],
   "source": [
    "# Read volatility data\n",
    "vol = pd.read_csv(r\"C:\\Users\\yahsk\\Desktop\\Q2\\Fixed income markets\\ALL HW AND SOLUTIONS except 8\\Homework_export 7\\Homework 7\\voldat.csv\", header=None)[0]\n",
    "vol.index = np.arange(1, 15+0.5, 0.5)\n",
    "vol[0.5] = 0\n",
    "vol = vol.sort_index()[:10]"
   ]
  },
  {
   "cell_type": "code",
   "execution_count": 13,
   "metadata": {},
   "outputs": [],
   "source": [
    "# Read cholesky matrix\n",
    "mat_chol = pd.read_excel(r\"C:\\Users\\yahsk\\Desktop\\Q2\\Fixed income markets\\ALL HW AND SOLUTIONS except 8\\Homework_export 7\\Homework 7\\Homework_7_Data.xlsx\", sheet_name=1, header=None).values\n"
   ]
  },
  {
   "cell_type": "code",
   "execution_count": 14,
   "metadata": {},
   "outputs": [],
   "source": [
    "# Function to compute short rate based on string model\n",
    "def string(df, vol, mat_chol, seed):\n",
    "    # Generate dz\n",
    "    np.random.seed(seed)\n",
    "    dz = pd.DataFrame(mat_chol @ np.random.normal(size=[20, 20]),\n",
    "        index=np.arange(0.5, 10+0.5, 0.5),\n",
    "        columns=np.arange(0.5, 10+0.5, 0.5))\n",
    "    # Repeatedly compute short rate & DF curve t=0.5 to 9.5\n",
    "    # Note: index: maturity, columns: time\n",
    "    B = pd.DataFrame(None,\n",
    "        index=np.arange(0.5, 10+0.5, 0.5),\n",
    "        columns=np.arange(0, 10+0.5, 0.5))\n",
    "    r_save = pd.Series(index=np.arange(0, 9.5+0.5, 0.5))\n",
    "    # Repeat process\n",
    "    B[0] = df\n",
    "    vol_t = vol.copy()\n",
    "    for t in np.arange(0.5, 10+0.5, 0.5):\n",
    "        r = (1/B[t-0.5][t]-1)*2\n",
    "        B[t] = B[t-0.5]+r*B[t-0.5]/2 + vol_t*B[t-0.5]*dz[t]\n",
    "        vol_t = vol_t.shift()\n",
    "        r_save[t-0.5] = r\n",
    "    return r_save"
   ]
  },
  {
   "cell_type": "code",
   "execution_count": 15,
   "metadata": {},
   "outputs": [],
   "source": [
    "# Monte Carlo simulation: String model\n",
    "r_sim = pd.DataFrame({n: string(df_init, vol, mat_chol, n)\n",
    "for n in range(0, 10000)})"
   ]
  },
  {
   "cell_type": "code",
   "execution_count": 16,
   "metadata": {},
   "outputs": [],
   "source": [
    "#Compute discount factor path\n",
    "df_sim = (1/(1+r_sim/2)).cumprod()\n",
    "df_sim.index = np.arange(0.5, 10+0.5, 0.5)"
   ]
  },
  {
   "cell_type": "code",
   "execution_count": 17,
   "metadata": {},
   "outputs": [
    {
     "data": {
      "text/html": [
       "<div>\n",
       "<style scoped>\n",
       "    .dataframe tbody tr th:only-of-type {\n",
       "        vertical-align: middle;\n",
       "    }\n",
       "\n",
       "    .dataframe tbody tr th {\n",
       "        vertical-align: top;\n",
       "    }\n",
       "\n",
       "    .dataframe thead th {\n",
       "        text-align: right;\n",
       "    }\n",
       "</style>\n",
       "<table border=\"1\" class=\"dataframe\">\n",
       "  <thead>\n",
       "    <tr style=\"text-align: right;\">\n",
       "      <th></th>\n",
       "      <th>0</th>\n",
       "      <th>1</th>\n",
       "      <th>2</th>\n",
       "      <th>3</th>\n",
       "      <th>4</th>\n",
       "      <th>5</th>\n",
       "    </tr>\n",
       "  </thead>\n",
       "  <tbody>\n",
       "    <tr>\n",
       "      <th>0.0</th>\n",
       "      <td>0.056605</td>\n",
       "      <td>0.056605</td>\n",
       "      <td>0.056605</td>\n",
       "      <td>0.056605</td>\n",
       "      <td>0.056605</td>\n",
       "      <td>0.056605</td>\n",
       "    </tr>\n",
       "    <tr>\n",
       "      <th>0.5</th>\n",
       "      <td>-0.159872</td>\n",
       "      <td>-0.183652</td>\n",
       "      <td>0.182708</td>\n",
       "      <td>-0.205862</td>\n",
       "      <td>0.088557</td>\n",
       "      <td>0.012449</td>\n",
       "    </tr>\n",
       "    <tr>\n",
       "      <th>1.0</th>\n",
       "      <td>0.017215</td>\n",
       "      <td>0.155968</td>\n",
       "      <td>0.086947</td>\n",
       "      <td>-0.029021</td>\n",
       "      <td>0.010023</td>\n",
       "      <td>0.193878</td>\n",
       "    </tr>\n",
       "    <tr>\n",
       "      <th>1.5</th>\n",
       "      <td>-0.031646</td>\n",
       "      <td>0.094839</td>\n",
       "      <td>0.717376</td>\n",
       "      <td>-0.140293</td>\n",
       "      <td>0.157849</td>\n",
       "      <td>-0.274650</td>\n",
       "    </tr>\n",
       "    <tr>\n",
       "      <th>2.0</th>\n",
       "      <td>-0.277459</td>\n",
       "      <td>0.194031</td>\n",
       "      <td>-0.115602</td>\n",
       "      <td>0.534981</td>\n",
       "      <td>0.310749</td>\n",
       "      <td>-0.084222</td>\n",
       "    </tr>\n",
       "    <tr>\n",
       "      <th>2.5</th>\n",
       "      <td>-0.400526</td>\n",
       "      <td>-0.164426</td>\n",
       "      <td>0.604425</td>\n",
       "      <td>0.184900</td>\n",
       "      <td>-0.043334</td>\n",
       "      <td>-0.128193</td>\n",
       "    </tr>\n",
       "    <tr>\n",
       "      <th>3.0</th>\n",
       "      <td>0.117645</td>\n",
       "      <td>0.576069</td>\n",
       "      <td>0.283137</td>\n",
       "      <td>0.372412</td>\n",
       "      <td>0.245961</td>\n",
       "      <td>-0.281151</td>\n",
       "    </tr>\n",
       "    <tr>\n",
       "      <th>3.5</th>\n",
       "      <td>-0.177417</td>\n",
       "      <td>-0.235587</td>\n",
       "      <td>-0.009296</td>\n",
       "      <td>0.101913</td>\n",
       "      <td>0.386836</td>\n",
       "      <td>0.029237</td>\n",
       "    </tr>\n",
       "    <tr>\n",
       "      <th>4.0</th>\n",
       "      <td>-0.135820</td>\n",
       "      <td>0.167433</td>\n",
       "      <td>0.462785</td>\n",
       "      <td>0.434517</td>\n",
       "      <td>0.304456</td>\n",
       "      <td>0.176883</td>\n",
       "    </tr>\n",
       "    <tr>\n",
       "      <th>4.5</th>\n",
       "      <td>0.568107</td>\n",
       "      <td>-0.083666</td>\n",
       "      <td>0.021297</td>\n",
       "      <td>0.402359</td>\n",
       "      <td>0.050822</td>\n",
       "      <td>0.529535</td>\n",
       "    </tr>\n",
       "    <tr>\n",
       "      <th>5.0</th>\n",
       "      <td>-0.011210</td>\n",
       "      <td>0.342530</td>\n",
       "      <td>0.180708</td>\n",
       "      <td>-0.023240</td>\n",
       "      <td>0.309619</td>\n",
       "      <td>0.379569</td>\n",
       "    </tr>\n",
       "    <tr>\n",
       "      <th>5.5</th>\n",
       "      <td>0.248220</td>\n",
       "      <td>-0.394006</td>\n",
       "      <td>-0.223518</td>\n",
       "      <td>0.364246</td>\n",
       "      <td>-0.264376</td>\n",
       "      <td>0.244260</td>\n",
       "    </tr>\n",
       "    <tr>\n",
       "      <th>6.0</th>\n",
       "      <td>-0.030187</td>\n",
       "      <td>1.038802</td>\n",
       "      <td>-0.211351</td>\n",
       "      <td>-0.669220</td>\n",
       "      <td>-0.011714</td>\n",
       "      <td>0.641319</td>\n",
       "    </tr>\n",
       "    <tr>\n",
       "      <th>6.5</th>\n",
       "      <td>0.161459</td>\n",
       "      <td>-0.061549</td>\n",
       "      <td>0.778428</td>\n",
       "      <td>-0.173176</td>\n",
       "      <td>-0.234246</td>\n",
       "      <td>-0.016487</td>\n",
       "    </tr>\n",
       "    <tr>\n",
       "      <th>7.0</th>\n",
       "      <td>-0.165695</td>\n",
       "      <td>0.037727</td>\n",
       "      <td>0.461555</td>\n",
       "      <td>-0.545334</td>\n",
       "      <td>-0.321733</td>\n",
       "      <td>0.548129</td>\n",
       "    </tr>\n",
       "    <tr>\n",
       "      <th>7.5</th>\n",
       "      <td>0.369705</td>\n",
       "      <td>-0.211262</td>\n",
       "      <td>0.452205</td>\n",
       "      <td>0.012352</td>\n",
       "      <td>-0.194104</td>\n",
       "      <td>-0.088079</td>\n",
       "    </tr>\n",
       "    <tr>\n",
       "      <th>8.0</th>\n",
       "      <td>0.199593</td>\n",
       "      <td>0.302625</td>\n",
       "      <td>-0.273338</td>\n",
       "      <td>0.301672</td>\n",
       "      <td>-0.186440</td>\n",
       "      <td>0.335690</td>\n",
       "    </tr>\n",
       "    <tr>\n",
       "      <th>8.5</th>\n",
       "      <td>0.152603</td>\n",
       "      <td>0.039640</td>\n",
       "      <td>-0.212062</td>\n",
       "      <td>0.259461</td>\n",
       "      <td>0.037316</td>\n",
       "      <td>-0.213057</td>\n",
       "    </tr>\n",
       "    <tr>\n",
       "      <th>9.0</th>\n",
       "      <td>0.193286</td>\n",
       "      <td>0.329925</td>\n",
       "      <td>-0.305849</td>\n",
       "      <td>0.385937</td>\n",
       "      <td>-0.290004</td>\n",
       "      <td>-0.426362</td>\n",
       "    </tr>\n",
       "    <tr>\n",
       "      <th>9.5</th>\n",
       "      <td>0.682637</td>\n",
       "      <td>0.267895</td>\n",
       "      <td>-0.528038</td>\n",
       "      <td>0.499755</td>\n",
       "      <td>0.131577</td>\n",
       "      <td>0.108385</td>\n",
       "    </tr>\n",
       "  </tbody>\n",
       "</table>\n",
       "</div>"
      ],
      "text/plain": [
       "            0         1         2         3         4         5\n",
       "0.0  0.056605  0.056605  0.056605  0.056605  0.056605  0.056605\n",
       "0.5 -0.159872 -0.183652  0.182708 -0.205862  0.088557  0.012449\n",
       "1.0  0.017215  0.155968  0.086947 -0.029021  0.010023  0.193878\n",
       "1.5 -0.031646  0.094839  0.717376 -0.140293  0.157849 -0.274650\n",
       "2.0 -0.277459  0.194031 -0.115602  0.534981  0.310749 -0.084222\n",
       "2.5 -0.400526 -0.164426  0.604425  0.184900 -0.043334 -0.128193\n",
       "3.0  0.117645  0.576069  0.283137  0.372412  0.245961 -0.281151\n",
       "3.5 -0.177417 -0.235587 -0.009296  0.101913  0.386836  0.029237\n",
       "4.0 -0.135820  0.167433  0.462785  0.434517  0.304456  0.176883\n",
       "4.5  0.568107 -0.083666  0.021297  0.402359  0.050822  0.529535\n",
       "5.0 -0.011210  0.342530  0.180708 -0.023240  0.309619  0.379569\n",
       "5.5  0.248220 -0.394006 -0.223518  0.364246 -0.264376  0.244260\n",
       "6.0 -0.030187  1.038802 -0.211351 -0.669220 -0.011714  0.641319\n",
       "6.5  0.161459 -0.061549  0.778428 -0.173176 -0.234246 -0.016487\n",
       "7.0 -0.165695  0.037727  0.461555 -0.545334 -0.321733  0.548129\n",
       "7.5  0.369705 -0.211262  0.452205  0.012352 -0.194104 -0.088079\n",
       "8.0  0.199593  0.302625 -0.273338  0.301672 -0.186440  0.335690\n",
       "8.5  0.152603  0.039640 -0.212062  0.259461  0.037316 -0.213057\n",
       "9.0  0.193286  0.329925 -0.305849  0.385937 -0.290004 -0.426362\n",
       "9.5  0.682637  0.267895 -0.528038  0.499755  0.131577  0.108385"
      ]
     },
     "execution_count": 17,
     "metadata": {},
     "output_type": "execute_result"
    }
   ],
   "source": [
    "r_sim.T[0:6].T"
   ]
  },
  {
   "cell_type": "code",
   "execution_count": 18,
   "metadata": {},
   "outputs": [
    {
     "data": {
      "image/png": "[encoded data removed]",
      "text/plain": [
       "<Figure size 1200x400 with 2 Axes>"
      ]
     },
     "metadata": {},
     "output_type": "display_data"
    }
   ],
   "source": [
    "# Plot average short rate curve and DF curve\n",
    "fig, ax = plt.subplots(1, 2, figsize=(6*2, 4))\n",
    "r_sim.T.mean().plot(ax=ax[0])\n",
    "df_sim.T.mean().plot(ax=ax[1]);"
   ]
  },
  {
   "cell_type": "code",
   "execution_count": 19,
   "metadata": {},
   "outputs": [],
   "source": [
    "# Compute forward par rate based on the simulated path\n",
    "fwd_par_sim = pd.DataFrame({\n",
    "m: 2*(df_sim.loc[5,:]-df_sim.loc[5+m,:])/df_sim[(5+0.5):(5+m)].sum()\n",
    "for m in range(1, 5+1)\n",
    "})"
   ]
  },
  {
   "cell_type": "code",
   "execution_count": 20,
   "metadata": {},
   "outputs": [
    {
     "data": {
      "text/plain": [
       "1    0.101279\n",
       "2    0.098716\n",
       "3    0.096025\n",
       "4    0.094867\n",
       "5    0.092854\n",
       "dtype: float64"
      ]
     },
     "execution_count": 20,
     "metadata": {},
     "output_type": "execute_result"
    }
   ],
   "source": [
    "# Compute the expected value of forward par rate\n",
    "fwd_par = fwd_par_sim.mean()\n",
    "fwd_par"
   ]
  },
  {
   "cell_type": "code",
   "execution_count": 21,
   "metadata": {},
   "outputs": [
    {
     "data": {
      "text/plain": [
       "1    0.068886\n",
       "2    0.069452\n",
       "3    0.069903\n",
       "4    0.070248\n",
       "5    0.070489\n",
       "dtype: float64"
      ]
     },
     "execution_count": 21,
     "metadata": {},
     "output_type": "execute_result"
    }
   ],
   "source": [
    "# Reference: Compute the forward par rate based on the initial curve\n",
    "fwd_par_init = pd.Series({\n",
    "m: 2*(df_init[5]-df_init[5+m])/df_init[(5+0.5):(5+m)].sum()\n",
    "for m in range(1, 5+1)\n",
    "})\n",
    "fwd_par_init"
   ]
  },
  {
   "cell_type": "code",
   "execution_count": 22,
   "metadata": {},
   "outputs": [],
   "source": [
    "# Compute par rate based on the simulated path\n",
    "par_sim = pd.DataFrame({\n",
    "m: 2*(1-df_sim.loc[m,:])/df_sim[0.5:m].sum()\n",
    "for m in [2,3,5,10]\n",
    "})"
   ]
  },
  {
   "cell_type": "code",
   "execution_count": 23,
   "metadata": {},
   "outputs": [
    {
     "data": {
      "text/plain": [
       "2     0.068331\n",
       "3     0.074518\n",
       "5     0.080044\n",
       "10    0.082530\n",
       "dtype: float64"
      ]
     },
     "execution_count": 23,
     "metadata": {},
     "output_type": "execute_result"
    }
   ],
   "source": [
    "par = par_sim.mean()\n",
    "par"
   ]
  },
  {
   "cell_type": "code",
   "execution_count": 24,
   "metadata": {},
   "outputs": [],
   "source": [
    "def calc_cap(K, r_sim, df_sim):\n",
    "    cf_sim = (r_sim-K)*0.5\n",
    "    cf_sim = cf_sim.mask(cf_sim<0,0)\n",
    "    cf_sim.index = df_sim.index\n",
    "    pv = (cf_sim*df_sim).sum().mean()\n",
    "    return pv"
   ]
  },
  {
   "cell_type": "code",
   "execution_count": 25,
   "metadata": {},
   "outputs": [
    {
     "data": {
      "text/plain": [
       "2     0.726934\n",
       "3     0.707610\n",
       "5     0.690687\n",
       "10    0.683179\n",
       "dtype: float64"
      ]
     },
     "execution_count": 25,
     "metadata": {},
     "output_type": "execute_result"
    }
   ],
   "source": [
    "pv_cap = par.apply(lambda x: calc_cap(x, r_sim, df_sim))\n",
    "pv_cap"
   ]
  },
  {
   "cell_type": "code",
   "execution_count": 26,
   "metadata": {},
   "outputs": [],
   "source": [
    "def calc_reset_cap(m, r_sim, df_sim):\n",
    "    cf = 0.5*r_sim.diff()\n",
    "    cf.index = df_sim.index\n",
    "    pv = (cf.mask(cf<0,0)*df_sim).loc[:m].sum().mean()\n",
    "    return pv"
   ]
  },
  {
   "cell_type": "code",
   "execution_count": 27,
   "metadata": {},
   "outputs": [
    {
     "data": {
      "text/plain": [
       "0.4483009965197644"
      ]
     },
     "execution_count": 27,
     "metadata": {},
     "output_type": "execute_result"
    }
   ],
   "source": [
    "calc_reset_cap(5, r_sim, df_sim)"
   ]
  },
  {
   "cell_type": "code",
   "execution_count": 28,
   "metadata": {},
   "outputs": [],
   "source": [
    "m = 5\n",
    "cms_sim = pd.DataFrame({\n",
    "    t: 2*(df_sim.loc[t,:]-df_sim.loc[t+m,:])/df_sim[(t+0.5):(t+m)].sum()\n",
    "    for t in np.arange(0.5, 5+0.5, 0.5)}).T"
   ]
  },
  {
   "cell_type": "code",
   "execution_count": 29,
   "metadata": {},
   "outputs": [
    {
     "data": {
      "text/html": [
       "<div>\n",
       "<style scoped>\n",
       "    .dataframe tbody tr th:only-of-type {\n",
       "        vertical-align: middle;\n",
       "    }\n",
       "\n",
       "    .dataframe tbody tr th {\n",
       "        vertical-align: top;\n",
       "    }\n",
       "\n",
       "    .dataframe thead th {\n",
       "        text-align: right;\n",
       "    }\n",
       "</style>\n",
       "<table border=\"1\" class=\"dataframe\">\n",
       "  <thead>\n",
       "    <tr style=\"text-align: right;\">\n",
       "      <th></th>\n",
       "      <th>0</th>\n",
       "      <th>1</th>\n",
       "      <th>2</th>\n",
       "      <th>3</th>\n",
       "      <th>4</th>\n",
       "    </tr>\n",
       "  </thead>\n",
       "  <tbody>\n",
       "    <tr>\n",
       "      <th>0.5</th>\n",
       "      <td>-0.055701</td>\n",
       "      <td>0.067464</td>\n",
       "      <td>0.232266</td>\n",
       "      <td>0.123540</td>\n",
       "      <td>0.162603</td>\n",
       "    </tr>\n",
       "    <tr>\n",
       "      <th>1.0</th>\n",
       "      <td>-0.020736</td>\n",
       "      <td>0.052849</td>\n",
       "      <td>0.206981</td>\n",
       "      <td>0.184982</td>\n",
       "      <td>0.141428</td>\n",
       "    </tr>\n",
       "    <tr>\n",
       "      <th>1.5</th>\n",
       "      <td>-0.024471</td>\n",
       "      <td>0.109123</td>\n",
       "      <td>0.191092</td>\n",
       "      <td>0.144382</td>\n",
       "      <td>0.149492</td>\n",
       "    </tr>\n",
       "    <tr>\n",
       "      <th>2.0</th>\n",
       "      <td>-0.008744</td>\n",
       "      <td>0.097955</td>\n",
       "      <td>0.154721</td>\n",
       "      <td>0.164366</td>\n",
       "      <td>0.111103</td>\n",
       "    </tr>\n",
       "    <tr>\n",
       "      <th>2.5</th>\n",
       "      <td>0.001395</td>\n",
       "      <td>0.081903</td>\n",
       "      <td>0.221743</td>\n",
       "      <td>0.008159</td>\n",
       "      <td>0.033618</td>\n",
       "    </tr>\n",
       "    <tr>\n",
       "      <th>3.0</th>\n",
       "      <td>0.076974</td>\n",
       "      <td>0.088572</td>\n",
       "      <td>0.178841</td>\n",
       "      <td>-0.014898</td>\n",
       "      <td>0.014462</td>\n",
       "    </tr>\n",
       "    <tr>\n",
       "      <th>3.5</th>\n",
       "      <td>0.081370</td>\n",
       "      <td>0.053464</td>\n",
       "      <td>0.132715</td>\n",
       "      <td>-0.019683</td>\n",
       "      <td>-0.041748</td>\n",
       "    </tr>\n",
       "    <tr>\n",
       "      <th>4.0</th>\n",
       "      <td>0.121047</td>\n",
       "      <td>0.089100</td>\n",
       "      <td>0.124586</td>\n",
       "      <td>-0.002599</td>\n",
       "      <td>-0.072818</td>\n",
       "    </tr>\n",
       "    <tr>\n",
       "      <th>4.5</th>\n",
       "      <td>0.166018</td>\n",
       "      <td>0.097381</td>\n",
       "      <td>0.040279</td>\n",
       "      <td>-0.005713</td>\n",
       "      <td>-0.134135</td>\n",
       "    </tr>\n",
       "    <tr>\n",
       "      <th>5.0</th>\n",
       "      <td>0.143704</td>\n",
       "      <td>0.134150</td>\n",
       "      <td>-0.034018</td>\n",
       "      <td>0.001070</td>\n",
       "      <td>-0.113246</td>\n",
       "    </tr>\n",
       "  </tbody>\n",
       "</table>\n",
       "</div>"
      ],
      "text/plain": [
       "            0         1         2         3         4\n",
       "0.5 -0.055701  0.067464  0.232266  0.123540  0.162603\n",
       "1.0 -0.020736  0.052849  0.206981  0.184982  0.141428\n",
       "1.5 -0.024471  0.109123  0.191092  0.144382  0.149492\n",
       "2.0 -0.008744  0.097955  0.154721  0.164366  0.111103\n",
       "2.5  0.001395  0.081903  0.221743  0.008159  0.033618\n",
       "3.0  0.076974  0.088572  0.178841 -0.014898  0.014462\n",
       "3.5  0.081370  0.053464  0.132715 -0.019683 -0.041748\n",
       "4.0  0.121047  0.089100  0.124586 -0.002599 -0.072818\n",
       "4.5  0.166018  0.097381  0.040279 -0.005713 -0.134135\n",
       "5.0  0.143704  0.134150 -0.034018  0.001070 -0.113246"
      ]
     },
     "execution_count": 29,
     "metadata": {},
     "output_type": "execute_result"
    }
   ],
   "source": [
    "cms_sim.loc[:,0:4]"
   ]
  },
  {
   "cell_type": "code",
   "execution_count": 30,
   "metadata": {},
   "outputs": [
    {
     "data": {
      "text/plain": [
       "0.2835113658718464"
      ]
     },
     "execution_count": 30,
     "metadata": {},
     "output_type": "execute_result"
    }
   ],
   "source": [
    "cf_sim = cms_sim-0.05\n",
    "cf_sim = 0.5*cf_sim.mask(cf_sim<0,0)\n",
    "pv = (cf_sim*df_sim[:5]).sum().mean()\n",
    "pv"
   ]
  }
 ],
 "metadata": {
  "kernelspec": {
   "display_name": "Python 3",
   "language": "python",
   "name": "python3"
  },
  "language_info": {
   "codemirror_mode": {
    "name": "ipython",
    "version": 3
   },
   "file_extension": ".py",
   "mimetype": "text/x-python",
   "name": "python",
   "nbconvert_exporter": "python",
   "pygments_lexer": "ipython3",
   "version": "3.11.1"
  },
  "orig_nbformat": 4
 },
 "nbformat": 4,
 "nbformat_minor": 2
}
